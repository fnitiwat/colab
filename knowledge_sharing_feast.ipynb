{
  "nbformat": 4,
  "nbformat_minor": 0,
  "metadata": {
    "colab": {
      "provenance": [],
      "authorship_tag": "ABX9TyPQSAnSxBM5F4CLbNtjYQwX",
      "include_colab_link": true
    },
    "kernelspec": {
      "name": "python3",
      "display_name": "Python 3"
    },
    "language_info": {
      "name": "python"
    }
  },
  "cells": [
    {
      "cell_type": "markdown",
      "metadata": {
        "id": "view-in-github",
        "colab_type": "text"
      },
      "source": [
        "<a href=\"https://colab.research.google.com/github/fnitiwat/colab/blob/main/knowledge_sharing_feast.ipynb\" target=\"_parent\"><img src=\"https://colab.research.google.com/assets/colab-badge.svg\" alt=\"Open In Colab\"/></a>"
      ]
    },
    {
      "cell_type": "markdown",
      "source": [
        "# README\n",
        "- setup\n",
        "- featurestore.yaml\n",
        "- data\n",
        "- preprocessing\n",
        "- transformed_data\n",
        "- featore_repo.py\n",
        "- feast apply\n",
        "- get historical feature\n",
        "- materialize\n",
        "- get online feature\n"
      ],
      "metadata": {
        "id": "60y4ofSHpoYr"
      }
    },
    {
      "cell_type": "markdown",
      "source": [
        "# Setup"
      ],
      "metadata": {
        "id": "fIYoNUExt3Jv"
      }
    },
    {
      "cell_type": "code",
      "source": [
        "! git clone https://github.com/fnitiwat/movielen_recsys.git"
      ],
      "metadata": {
        "id": "S07quHfY8ura"
      },
      "execution_count": null,
      "outputs": []
    },
    {
      "cell_type": "code",
      "source": [
        "! apt-get install tree\n",
        "! pip install feast"
      ],
      "metadata": {
        "id": "Nl3yipAWtxj5"
      },
      "execution_count": null,
      "outputs": []
    },
    {
      "cell_type": "code",
      "source": [
        "import os\n",
        "os.chdir('/content/movielen_recsys/feature_store/src')"
      ],
      "metadata": {
        "id": "WgKGmr2i9b9S"
      },
      "execution_count": null,
      "outputs": []
    },
    {
      "cell_type": "markdown",
      "source": [
        "# Raw Data\n",
        "- ratings\n"
      ],
      "metadata": {
        "id": "Go1kF4SCuH0J"
      }
    },
    {
      "cell_type": "code",
      "source": [
        "! tree ./data"
      ],
      "metadata": {
        "id": "3qGdzP2JttbH"
      },
      "execution_count": null,
      "outputs": []
    },
    {
      "cell_type": "code",
      "source": [
        "import pandas as pd\n",
        "\n",
        "df = pd.read_csv(\"./data/raw/ratings.csv\")\n",
        "display(df)"
      ],
      "metadata": {
        "id": "ICfxTTub974e"
      },
      "execution_count": null,
      "outputs": []
    },
    {
      "cell_type": "markdown",
      "source": [
        "# Transformed Data\n",
        "- transformed_rating\n",
        "  - update timestamp format\n",
        "- watch_histories\n",
        "  - transform rating to array of watch history in each time stamp"
      ],
      "metadata": {
        "id": "S7XCjw9vuiT-"
      }
    },
    {
      "cell_type": "code",
      "source": [
        "df = pd.read_csv(\"./data/interim/transformed_ratings.csv\")\n",
        "display(df)"
      ],
      "metadata": {
        "id": "9rITTO-nun_k"
      },
      "execution_count": null,
      "outputs": []
    },
    {
      "cell_type": "code",
      "source": [
        "df = pd.read_csv(\"./data/interim/transformed_watch_histories.csv\")\n",
        "display(df)"
      ],
      "metadata": {
        "id": "sgmDYznW-m1r"
      },
      "execution_count": null,
      "outputs": []
    },
    {
      "cell_type": "markdown",
      "source": [
        "# Feature Store Config"
      ],
      "metadata": {
        "id": "2FUFFcACuKLM"
      }
    },
    {
      "cell_type": "code",
      "source": [
        "! cat ./feature_store.yaml"
      ],
      "metadata": {
        "id": "x6csCVAHprV-"
      },
      "execution_count": null,
      "outputs": []
    },
    {
      "cell_type": "markdown",
      "source": [
        "# Feature Store Repo"
      ],
      "metadata": {
        "id": "XAuzN3i6-9Q0"
      }
    },
    {
      "cell_type": "code",
      "source": [
        "! cat feature_repo.py"
      ],
      "metadata": {
        "id": "WUYol9U1-8X3"
      },
      "execution_count": null,
      "outputs": []
    },
    {
      "cell_type": "markdown",
      "source": [
        "# Apply"
      ],
      "metadata": {
        "id": "ak2gABgY_JX0"
      }
    },
    {
      "cell_type": "code",
      "source": [
        "! feast apply"
      ],
      "metadata": {
        "id": "uD9ep7OU_IR6"
      },
      "execution_count": null,
      "outputs": []
    },
    {
      "cell_type": "markdown",
      "source": [
        "# Retrieval\n",
        "\n"
      ],
      "metadata": {
        "id": "_wqL_D9C_hT1"
      }
    },
    {
      "cell_type": "code",
      "source": [
        "import feast\n",
        "import pandas as pd\n",
        "from datetime import datetime\n",
        "\n",
        "fs = feast.FeatureStore(repo_path=\".\")"
      ],
      "metadata": {
        "id": "Sxp-j0Ets0NX"
      },
      "execution_count": null,
      "outputs": []
    },
    {
      "cell_type": "markdown",
      "source": [
        "### Data Scientist Research Retrieval"
      ],
      "metadata": {
        "id": "XKLpkssl_1OE"
      }
    },
    {
      "cell_type": "code",
      "source": [
        "entity_df = pd.DataFrame({\"userId\": [\"1.0\", \"2.0\", \"3.0\", \"4.0\", \"5.0\"], \"event_timestamp\": [datetime.now()]*5})\n",
        "training_df = fs.get_historical_features(\n",
        "    entity_df=entity_df,\n",
        "    features=[\n",
        "        \"watch_histories_feature_view:watch_histories\",\n",
        "        \"rating_feature_view:movieId\",\n",
        "        \"rating_feature_view:rating\",\n",
        "        \"global_stats_view:movieIds\",\n",
        "    ],\n",
        ").to_df()\n",
        "display(training_df)"
      ],
      "metadata": {
        "id": "bxLZMm5Z_uFp"
      },
      "execution_count": null,
      "outputs": []
    },
    {
      "cell_type": "markdown",
      "source": [
        "### Training Pipeline Retrieval"
      ],
      "metadata": {
        "id": "msSKq0-u_8uO"
      }
    },
    {
      "cell_type": "code",
      "source": [
        "entity_df = pd.DataFrame({\"userId\": [\"1.0\", \"2.0\", \"3.0\", \"4.0\", \"5.0\"], \"timestamp\": [datetime.now()]*5})\n",
        "feature_service = fs.get_feature_service(\"rating_service\")\n",
        "\n",
        "training_df = fs.get_historical_features(\n",
        "    features=feature_service, entity_df=entity_df\n",
        ").to_df()\n",
        "display(training_df)"
      ],
      "metadata": {
        "id": "SIb5n_6p_z0f"
      },
      "execution_count": null,
      "outputs": []
    },
    {
      "cell_type": "markdown",
      "source": [
        "# Materialize"
      ],
      "metadata": {
        "id": "WMAR4BF2AS1V"
      }
    },
    {
      "cell_type": "code",
      "source": [
        "! feast  materialize  1997-07-16T19:20:01 2024-07-16T19:20:01"
      ],
      "metadata": {
        "id": "_ZxpQPSnASDW"
      },
      "execution_count": null,
      "outputs": []
    },
    {
      "cell_type": "markdown",
      "source": [
        "### Online Serving Retrieval\n"
      ],
      "metadata": {
        "id": "aff8oySUACin"
      }
    },
    {
      "cell_type": "code",
      "source": [
        "entity_rows = [{\"userId\": \"1.0\"}, {\"userId\": \"2.0\"}]\n",
        "feature_service = fs.get_feature_service(\"rating_service\")\n",
        "\n",
        "training_df = fs.get_online_features(\n",
        "    features=feature_service, entity_rows=entity_rows\n",
        ").to_df()\n",
        "display(training_df)"
      ],
      "metadata": {
        "id": "s_jtaYBH__TY"
      },
      "execution_count": null,
      "outputs": []
    },
    {
      "cell_type": "code",
      "source": [
        "feature_service = fs.get_feature_service(\"watch_histories_service\")\n",
        "\n",
        "training_df = fs.get_online_features(\n",
        "    features=feature_service, entity_rows=entity_rows\n",
        ").to_df()\n",
        "display(training_df)"
      ],
      "metadata": {
        "id": "eIANf00vAJMG"
      },
      "execution_count": null,
      "outputs": []
    },
    {
      "cell_type": "code",
      "source": [
        "feature_service = fs.get_feature_service(\"model_v1\")\n",
        "\n",
        "training_df = fs.get_online_features(\n",
        "    features=feature_service, entity_rows=entity_rows\n",
        ").to_df()\n",
        "display(training_df)"
      ],
      "metadata": {
        "id": "0vfe1JO6ALQc"
      },
      "execution_count": null,
      "outputs": []
    },
    {
      "cell_type": "code",
      "source": [
        "feature_service = fs.get_feature_service(\"model_v2\")\n",
        "\n",
        "training_df = fs.get_online_features(\n",
        "    features=feature_service, entity_rows=entity_rows\n",
        ").to_df()\n",
        "display(training_df)"
      ],
      "metadata": {
        "id": "tSIgYJLVANA2"
      },
      "execution_count": null,
      "outputs": []
    },
    {
      "cell_type": "code",
      "source": [
        "feature_service = fs.get_feature_service(\"model_v3\")\n",
        "\n",
        "training_df = fs.get_online_features(\n",
        "    features=feature_service, entity_rows=entity_rows\n",
        ").to_df()\n",
        "display(training_df)"
      ],
      "metadata": {
        "id": "9gsxa-psAOeR"
      },
      "execution_count": null,
      "outputs": []
    },
    {
      "cell_type": "markdown",
      "source": [
        "# Tear Down"
      ],
      "metadata": {
        "id": "fwhgaAeRBTM1"
      }
    },
    {
      "cell_type": "code",
      "source": [
        "! feast teardown"
      ],
      "metadata": {
        "id": "mRSveUi4BU2y"
      },
      "execution_count": null,
      "outputs": []
    }
  ]
}